{
 "cells": [
  {
   "cell_type": "code",
   "execution_count": 50,
   "metadata": {
    "collapsed": true
   },
   "outputs": [],
   "source": [
    "import pandas as pd\n",
    "import numpy as np\n",
    "import datetime as datetime\n",
    "import time as time\n",
    "%matplotlib inline"
   ]
  },
  {
   "cell_type": "code",
   "execution_count": 51,
   "metadata": {},
   "outputs": [
    {
     "data": {
      "text/html": [
       "<div>\n",
       "<style>\n",
       "    .dataframe thead tr:only-child th {\n",
       "        text-align: right;\n",
       "    }\n",
       "\n",
       "    .dataframe thead th {\n",
       "        text-align: left;\n",
       "    }\n",
       "\n",
       "    .dataframe tbody tr th {\n",
       "        vertical-align: top;\n",
       "    }\n",
       "</style>\n",
       "<table border=\"1\" class=\"dataframe\">\n",
       "  <thead>\n",
       "    <tr style=\"text-align: right;\">\n",
       "      <th></th>\n",
       "      <th>Crash ID</th>\n",
       "      <th>State</th>\n",
       "      <th>Month</th>\n",
       "      <th>Year</th>\n",
       "      <th>Dayweek</th>\n",
       "      <th>Time</th>\n",
       "      <th>Crash_Type</th>\n",
       "      <th>Bus_Involvement</th>\n",
       "      <th>Rigid_Truck_Involvement</th>\n",
       "      <th>Articulated_Truck_Involvement</th>\n",
       "      <th>Speed_Limit</th>\n",
       "      <th>Road_User</th>\n",
       "      <th>Gender</th>\n",
       "      <th>Age</th>\n",
       "    </tr>\n",
       "  </thead>\n",
       "  <tbody>\n",
       "    <tr>\n",
       "      <th>0</th>\n",
       "      <td>20181001</td>\n",
       "      <td>NSW</td>\n",
       "      <td>March</td>\n",
       "      <td>2018</td>\n",
       "      <td>Tuesday</td>\n",
       "      <td>07:18</td>\n",
       "      <td>Multiple vehicle</td>\n",
       "      <td>No</td>\n",
       "      <td>Yes</td>\n",
       "      <td>No</td>\n",
       "      <td>50</td>\n",
       "      <td>Bicyclist (includes pillion passengers)</td>\n",
       "      <td>Male</td>\n",
       "      <td>29</td>\n",
       "    </tr>\n",
       "    <tr>\n",
       "      <th>1</th>\n",
       "      <td>20181005</td>\n",
       "      <td>NSW</td>\n",
       "      <td>March</td>\n",
       "      <td>2018</td>\n",
       "      <td>Monday</td>\n",
       "      <td>18:25</td>\n",
       "      <td>Multiple vehicle</td>\n",
       "      <td>No</td>\n",
       "      <td>No</td>\n",
       "      <td>No</td>\n",
       "      <td>50</td>\n",
       "      <td>Driver</td>\n",
       "      <td>Male</td>\n",
       "      <td>41</td>\n",
       "    </tr>\n",
       "    <tr>\n",
       "      <th>2</th>\n",
       "      <td>20181007</td>\n",
       "      <td>NSW</td>\n",
       "      <td>March</td>\n",
       "      <td>2018</td>\n",
       "      <td>Friday</td>\n",
       "      <td>08:00</td>\n",
       "      <td>Pedestrian</td>\n",
       "      <td>No</td>\n",
       "      <td>No</td>\n",
       "      <td>No</td>\n",
       "      <td>50</td>\n",
       "      <td>Pedestrian</td>\n",
       "      <td>Male</td>\n",
       "      <td>55</td>\n",
       "    </tr>\n",
       "    <tr>\n",
       "      <th>3</th>\n",
       "      <td>20181012</td>\n",
       "      <td>NSW</td>\n",
       "      <td>March</td>\n",
       "      <td>2018</td>\n",
       "      <td>Friday</td>\n",
       "      <td>16:05</td>\n",
       "      <td>Multiple vehicle</td>\n",
       "      <td>No</td>\n",
       "      <td>Yes</td>\n",
       "      <td>No</td>\n",
       "      <td>80</td>\n",
       "      <td>Driver</td>\n",
       "      <td>Female</td>\n",
       "      <td>17</td>\n",
       "    </tr>\n",
       "    <tr>\n",
       "      <th>4</th>\n",
       "      <td>20181016</td>\n",
       "      <td>NSW</td>\n",
       "      <td>March</td>\n",
       "      <td>2018</td>\n",
       "      <td>Sunday</td>\n",
       "      <td>01:45</td>\n",
       "      <td>Single vehicle</td>\n",
       "      <td>No</td>\n",
       "      <td>No</td>\n",
       "      <td>No</td>\n",
       "      <td>80</td>\n",
       "      <td>Driver</td>\n",
       "      <td>Female</td>\n",
       "      <td>24</td>\n",
       "    </tr>\n",
       "  </tbody>\n",
       "</table>\n",
       "</div>"
      ],
      "text/plain": [
       "   Crash ID State  Month  Year  Dayweek   Time        Crash_Type  \\\n",
       "0  20181001   NSW  March  2018  Tuesday  07:18  Multiple vehicle   \n",
       "1  20181005   NSW  March  2018   Monday  18:25  Multiple vehicle   \n",
       "2  20181007   NSW  March  2018   Friday  08:00        Pedestrian   \n",
       "3  20181012   NSW  March  2018   Friday  16:05  Multiple vehicle   \n",
       "4  20181016   NSW  March  2018   Sunday  01:45    Single vehicle   \n",
       "\n",
       "  Bus_Involvement Rigid_Truck_Involvement Articulated_Truck_Involvement   \\\n",
       "0              No                     Yes                             No   \n",
       "1              No                      No                             No   \n",
       "2              No                      No                             No   \n",
       "3              No                     Yes                             No   \n",
       "4              No                      No                             No   \n",
       "\n",
       "   Speed_Limit                                Road_User  Gender  Age  \n",
       "0           50  Bicyclist (includes pillion passengers)    Male   29  \n",
       "1           50                                   Driver    Male   41  \n",
       "2           50                               Pedestrian    Male   55  \n",
       "3           80                                   Driver  Female   17  \n",
       "4           80                                   Driver  Female   24  "
      ]
     },
     "execution_count": 51,
     "metadata": {},
     "output_type": "execute_result"
    }
   ],
   "source": [
    "df = pd.read_csv(r'file:///C:\\Users\\A629107\\Downloads\\FatalitiesMarch2018csv-12537.csv')\n",
    "df.head()"
   ]
  },
  {
   "cell_type": "code",
   "execution_count": 52,
   "metadata": {},
   "outputs": [
    {
     "data": {
      "text/html": [
       "<div>\n",
       "<style>\n",
       "    .dataframe thead tr:only-child th {\n",
       "        text-align: right;\n",
       "    }\n",
       "\n",
       "    .dataframe thead th {\n",
       "        text-align: left;\n",
       "    }\n",
       "\n",
       "    .dataframe tbody tr th {\n",
       "        vertical-align: top;\n",
       "    }\n",
       "</style>\n",
       "<table border=\"1\" class=\"dataframe\">\n",
       "  <thead>\n",
       "    <tr style=\"text-align: right;\">\n",
       "      <th></th>\n",
       "      <th>Crash ID</th>\n",
       "      <th>Year</th>\n",
       "      <th>Speed_Limit</th>\n",
       "      <th>Age</th>\n",
       "    </tr>\n",
       "  </thead>\n",
       "  <tbody>\n",
       "    <tr>\n",
       "      <th>count</th>\n",
       "      <td>4.889600e+04</td>\n",
       "      <td>48896.000000</td>\n",
       "      <td>48896.000000</td>\n",
       "      <td>48896.000000</td>\n",
       "    </tr>\n",
       "    <tr>\n",
       "      <th>mean</th>\n",
       "      <td>2.001667e+07</td>\n",
       "      <td>2001.376473</td>\n",
       "      <td>91.832502</td>\n",
       "      <td>39.220345</td>\n",
       "    </tr>\n",
       "    <tr>\n",
       "      <th>std</th>\n",
       "      <td>8.397934e+04</td>\n",
       "      <td>8.393047</td>\n",
       "      <td>94.136562</td>\n",
       "      <td>21.784648</td>\n",
       "    </tr>\n",
       "    <tr>\n",
       "      <th>min</th>\n",
       "      <td>1.989100e+07</td>\n",
       "      <td>1989.000000</td>\n",
       "      <td>-9.000000</td>\n",
       "      <td>-9.000000</td>\n",
       "    </tr>\n",
       "    <tr>\n",
       "      <th>25%</th>\n",
       "      <td>1.994302e+07</td>\n",
       "      <td>1994.000000</td>\n",
       "      <td>60.000000</td>\n",
       "      <td>22.000000</td>\n",
       "    </tr>\n",
       "    <tr>\n",
       "      <th>50%</th>\n",
       "      <td>2.001124e+07</td>\n",
       "      <td>2001.000000</td>\n",
       "      <td>80.000000</td>\n",
       "      <td>34.000000</td>\n",
       "    </tr>\n",
       "    <tr>\n",
       "      <th>75%</th>\n",
       "      <td>2.008329e+07</td>\n",
       "      <td>2008.000000</td>\n",
       "      <td>100.000000</td>\n",
       "      <td>55.000000</td>\n",
       "    </tr>\n",
       "    <tr>\n",
       "      <th>max</th>\n",
       "      <td>2.018800e+07</td>\n",
       "      <td>2018.000000</td>\n",
       "      <td>900.000000</td>\n",
       "      <td>101.000000</td>\n",
       "    </tr>\n",
       "  </tbody>\n",
       "</table>\n",
       "</div>"
      ],
      "text/plain": [
       "           Crash ID          Year   Speed_Limit           Age\n",
       "count  4.889600e+04  48896.000000  48896.000000  48896.000000\n",
       "mean   2.001667e+07   2001.376473     91.832502     39.220345\n",
       "std    8.397934e+04      8.393047     94.136562     21.784648\n",
       "min    1.989100e+07   1989.000000     -9.000000     -9.000000\n",
       "25%    1.994302e+07   1994.000000     60.000000     22.000000\n",
       "50%    2.001124e+07   2001.000000     80.000000     34.000000\n",
       "75%    2.008329e+07   2008.000000    100.000000     55.000000\n",
       "max    2.018800e+07   2018.000000    900.000000    101.000000"
      ]
     },
     "execution_count": 52,
     "metadata": {},
     "output_type": "execute_result"
    }
   ],
   "source": [
    "df.describe()"
   ]
  },
  {
   "cell_type": "markdown",
   "metadata": {},
   "source": [
    "                                        Fatalities per year analysis"
   ]
  },
  {
   "cell_type": "code",
   "execution_count": 53,
   "metadata": {},
   "outputs": [
    {
     "data": {
      "text/plain": [
       "<matplotlib.axes._subplots.AxesSubplot at 0xbee55f8>"
      ]
     },
     "execution_count": 53,
     "metadata": {},
     "output_type": "execute_result"
    },
    {
     "data": {
      "image/png": "[encoded data removed]",
      "text/plain": [
       "<matplotlib.figure.Figure at 0xbee5978>"
      ]
     },
     "metadata": {},
     "output_type": "display_data"
    }
   ],
   "source": [
    "df1 = df.groupby('Year').count()\n",
    "df1 = df1.iloc[:,0]\n",
    "df1.plot(grid=True)"
   ]
  },
  {
   "cell_type": "code",
   "execution_count": 54,
   "metadata": {},
   "outputs": [
    {
     "data": {
      "text/plain": [
       "<matplotlib.axes._subplots.AxesSubplot at 0xbed3eb8>"
      ]
     },
     "execution_count": 54,
     "metadata": {},
     "output_type": "execute_result"
    },
    {
     "data": {
      "image/png": "[encoded data removed]",
      "text/plain": [
       "<matplotlib.figure.Figure at 0xbeb5dd8>"
      ]
     },
     "metadata": {},
     "output_type": "display_data"
    }
   ],
   "source": [
    "df2 = df.groupby('State').count()\n",
    "df2 = df2.iloc[:,0]\n",
    "df2.plot.bar()"
   ]
  },
  {
   "cell_type": "code",
   "execution_count": 55,
   "metadata": {
    "scrolled": false
   },
   "outputs": [
    {
     "data": {
      "text/html": [
       "<div>\n",
       "<style>\n",
       "    .dataframe thead tr:only-child th {\n",
       "        text-align: right;\n",
       "    }\n",
       "\n",
       "    .dataframe thead th {\n",
       "        text-align: left;\n",
       "    }\n",
       "\n",
       "    .dataframe tbody tr th {\n",
       "        vertical-align: top;\n",
       "    }\n",
       "</style>\n",
       "<table border=\"1\" class=\"dataframe\">\n",
       "  <thead>\n",
       "    <tr style=\"text-align: right;\">\n",
       "      <th></th>\n",
       "      <th>Crash ID</th>\n",
       "      <th>State</th>\n",
       "      <th>Month</th>\n",
       "      <th>Year</th>\n",
       "      <th>Dayweek</th>\n",
       "      <th>Time</th>\n",
       "      <th>Crash_Type</th>\n",
       "      <th>Bus_Involvement</th>\n",
       "      <th>Rigid_Truck_Involvement</th>\n",
       "      <th>Articulated_Truck_Involvement</th>\n",
       "      <th>Speed_Limit</th>\n",
       "      <th>Road_User</th>\n",
       "      <th>Gender</th>\n",
       "      <th>Age</th>\n",
       "      <th>Hour of the day</th>\n",
       "    </tr>\n",
       "  </thead>\n",
       "  <tbody>\n",
       "    <tr>\n",
       "      <th>0</th>\n",
       "      <td>20181001</td>\n",
       "      <td>NSW</td>\n",
       "      <td>March</td>\n",
       "      <td>2018</td>\n",
       "      <td>Tuesday</td>\n",
       "      <td>07:18</td>\n",
       "      <td>Multiple vehicle</td>\n",
       "      <td>No</td>\n",
       "      <td>Yes</td>\n",
       "      <td>No</td>\n",
       "      <td>50</td>\n",
       "      <td>Bicyclist (includes pillion passengers)</td>\n",
       "      <td>Male</td>\n",
       "      <td>29</td>\n",
       "      <td>07</td>\n",
       "    </tr>\n",
       "    <tr>\n",
       "      <th>1</th>\n",
       "      <td>20181005</td>\n",
       "      <td>NSW</td>\n",
       "      <td>March</td>\n",
       "      <td>2018</td>\n",
       "      <td>Monday</td>\n",
       "      <td>18:25</td>\n",
       "      <td>Multiple vehicle</td>\n",
       "      <td>No</td>\n",
       "      <td>No</td>\n",
       "      <td>No</td>\n",
       "      <td>50</td>\n",
       "      <td>Driver</td>\n",
       "      <td>Male</td>\n",
       "      <td>41</td>\n",
       "      <td>18</td>\n",
       "    </tr>\n",
       "    <tr>\n",
       "      <th>2</th>\n",
       "      <td>20181007</td>\n",
       "      <td>NSW</td>\n",
       "      <td>March</td>\n",
       "      <td>2018</td>\n",
       "      <td>Friday</td>\n",
       "      <td>08:00</td>\n",
       "      <td>Pedestrian</td>\n",
       "      <td>No</td>\n",
       "      <td>No</td>\n",
       "      <td>No</td>\n",
       "      <td>50</td>\n",
       "      <td>Pedestrian</td>\n",
       "      <td>Male</td>\n",
       "      <td>55</td>\n",
       "      <td>08</td>\n",
       "    </tr>\n",
       "    <tr>\n",
       "      <th>3</th>\n",
       "      <td>20181012</td>\n",
       "      <td>NSW</td>\n",
       "      <td>March</td>\n",
       "      <td>2018</td>\n",
       "      <td>Friday</td>\n",
       "      <td>16:05</td>\n",
       "      <td>Multiple vehicle</td>\n",
       "      <td>No</td>\n",
       "      <td>Yes</td>\n",
       "      <td>No</td>\n",
       "      <td>80</td>\n",
       "      <td>Driver</td>\n",
       "      <td>Female</td>\n",
       "      <td>17</td>\n",
       "      <td>16</td>\n",
       "    </tr>\n",
       "    <tr>\n",
       "      <th>4</th>\n",
       "      <td>20181016</td>\n",
       "      <td>NSW</td>\n",
       "      <td>March</td>\n",
       "      <td>2018</td>\n",
       "      <td>Sunday</td>\n",
       "      <td>01:45</td>\n",
       "      <td>Single vehicle</td>\n",
       "      <td>No</td>\n",
       "      <td>No</td>\n",
       "      <td>No</td>\n",
       "      <td>80</td>\n",
       "      <td>Driver</td>\n",
       "      <td>Female</td>\n",
       "      <td>24</td>\n",
       "      <td>01</td>\n",
       "    </tr>\n",
       "  </tbody>\n",
       "</table>\n",
       "</div>"
      ],
      "text/plain": [
       "   Crash ID State  Month  Year  Dayweek   Time        Crash_Type  \\\n",
       "0  20181001   NSW  March  2018  Tuesday  07:18  Multiple vehicle   \n",
       "1  20181005   NSW  March  2018   Monday  18:25  Multiple vehicle   \n",
       "2  20181007   NSW  March  2018   Friday  08:00        Pedestrian   \n",
       "3  20181012   NSW  March  2018   Friday  16:05  Multiple vehicle   \n",
       "4  20181016   NSW  March  2018   Sunday  01:45    Single vehicle   \n",
       "\n",
       "  Bus_Involvement Rigid_Truck_Involvement Articulated_Truck_Involvement   \\\n",
       "0              No                     Yes                             No   \n",
       "1              No                      No                             No   \n",
       "2              No                      No                             No   \n",
       "3              No                     Yes                             No   \n",
       "4              No                      No                             No   \n",
       "\n",
       "   Speed_Limit                                Road_User  Gender  Age  \\\n",
       "0           50  Bicyclist (includes pillion passengers)    Male   29   \n",
       "1           50                                   Driver    Male   41   \n",
       "2           50                               Pedestrian    Male   55   \n",
       "3           80                                   Driver  Female   17   \n",
       "4           80                                   Driver  Female   24   \n",
       "\n",
       "  Hour of the day  \n",
       "0              07  \n",
       "1              18  \n",
       "2              08  \n",
       "3              16  \n",
       "4              01  "
      ]
     },
     "execution_count": 55,
     "metadata": {},
     "output_type": "execute_result"
    }
   ],
   "source": [
    "df[\"Hour of the day\"] = df[\"Time\"].str.split(':', n= 1)\n",
    "df[\"Hour of the day\"] = df[\"Hour of the day\"].apply(lambda x: x[0])\n",
    "df.head()"
   ]
  },
  {
   "cell_type": "code",
   "execution_count": 69,
   "metadata": {},
   "outputs": [
    {
     "data": {
      "text/plain": [
       "<matplotlib.axes._subplots.AxesSubplot at 0xa80e048>"
      ]
     },
     "execution_count": 69,
     "metadata": {},
     "output_type": "execute_result"
    },
    {
     "data": {
      "image/png": "[encoded data removed]",
      "text/plain": [
       "<matplotlib.figure.Figure at 0xa7f9a90>"
      ]
     },
     "metadata": {},
     "output_type": "display_data"
    }
   ],
   "source": [
    "df3 = df.groupby('Hour of the day').count()\n",
    "df3 = df3.iloc[:,0]\n",
    "df3.drop(df3.index[0], inplace=True)\n",
    "df3.plot.bar(figsize = (10,6))"
   ]
  },
  {
   "cell_type": "code",
   "execution_count": null,
   "metadata": {
    "collapsed": true
   },
   "outputs": [],
   "source": []
  }
 ],
 "metadata": {
  "kernelspec": {
   "display_name": "Python 3",
   "language": "python",
   "name": "python3"
  }
 },
 "nbformat": 4,
 "nbformat_minor": 2
}
