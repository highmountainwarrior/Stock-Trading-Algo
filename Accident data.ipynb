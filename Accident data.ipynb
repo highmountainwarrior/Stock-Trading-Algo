{
 "cells": [
  {
   "cell_type": "code",
   "execution_count": 20,
   "metadata": {
    "collapsed": true
   },
   "outputs": [],
   "source": [
    "import pandas as pd\n",
    "import numpy as np\n",
    "import datetime as datetime\n",
    "import time as time\n",
    "%matplotlib inline"
   ]
  },
  {
   "cell_type": "code",
   "execution_count": 21,
   "metadata": {},
   "outputs": [
    {
     "data": {
      "text/html": [
       "<div>\n",
       "<style>\n",
       "    .dataframe thead tr:only-child th {\n",
       "        text-align: right;\n",
       "    }\n",
       "\n",
       "    .dataframe thead th {\n",
       "        text-align: left;\n",
       "    }\n",
       "\n",
       "    .dataframe tbody tr th {\n",
       "        vertical-align: top;\n",
       "    }\n",
       "</style>\n",
       "<table border=\"1\" class=\"dataframe\">\n",
       "  <thead>\n",
       "    <tr style=\"text-align: right;\">\n",
       "      <th></th>\n",
       "      <th>Crash ID</th>\n",
       "      <th>State</th>\n",
       "      <th>Month</th>\n",
       "      <th>Year</th>\n",
       "      <th>Dayweek</th>\n",
       "      <th>Time</th>\n",
       "      <th>Crash_Type</th>\n",
       "      <th>Bus_Involvement</th>\n",
       "      <th>Rigid_Truck_Involvement</th>\n",
       "      <th>Articulated_Truck_Involvement</th>\n",
       "      <th>Speed_Limit</th>\n",
       "      <th>Road_User</th>\n",
       "      <th>Gender</th>\n",
       "      <th>Age</th>\n",
       "    </tr>\n",
       "  </thead>\n",
       "  <tbody>\n",
       "    <tr>\n",
       "      <th>0</th>\n",
       "      <td>20181001</td>\n",
       "      <td>NSW</td>\n",
       "      <td>March</td>\n",
       "      <td>2018</td>\n",
       "      <td>Tuesday</td>\n",
       "      <td>07:18</td>\n",
       "      <td>Multiple vehicle</td>\n",
       "      <td>No</td>\n",
       "      <td>Yes</td>\n",
       "      <td>No</td>\n",
       "      <td>50</td>\n",
       "      <td>Bicyclist (includes pillion passengers)</td>\n",
       "      <td>Male</td>\n",
       "      <td>29</td>\n",
       "    </tr>\n",
       "    <tr>\n",
       "      <th>1</th>\n",
       "      <td>20181005</td>\n",
       "      <td>NSW</td>\n",
       "      <td>March</td>\n",
       "      <td>2018</td>\n",
       "      <td>Monday</td>\n",
       "      <td>18:25</td>\n",
       "      <td>Multiple vehicle</td>\n",
       "      <td>No</td>\n",
       "      <td>No</td>\n",
       "      <td>No</td>\n",
       "      <td>50</td>\n",
       "      <td>Driver</td>\n",
       "      <td>Male</td>\n",
       "      <td>41</td>\n",
       "    </tr>\n",
       "    <tr>\n",
       "      <th>2</th>\n",
       "      <td>20181007</td>\n",
       "      <td>NSW</td>\n",
       "      <td>March</td>\n",
       "      <td>2018</td>\n",
       "      <td>Friday</td>\n",
       "      <td>08:00</td>\n",
       "      <td>Pedestrian</td>\n",
       "      <td>No</td>\n",
       "      <td>No</td>\n",
       "      <td>No</td>\n",
       "      <td>50</td>\n",
       "      <td>Pedestrian</td>\n",
       "      <td>Male</td>\n",
       "      <td>55</td>\n",
       "    </tr>\n",
       "    <tr>\n",
       "      <th>3</th>\n",
       "      <td>20181012</td>\n",
       "      <td>NSW</td>\n",
       "      <td>March</td>\n",
       "      <td>2018</td>\n",
       "      <td>Friday</td>\n",
       "      <td>16:05</td>\n",
       "      <td>Multiple vehicle</td>\n",
       "      <td>No</td>\n",
       "      <td>Yes</td>\n",
       "      <td>No</td>\n",
       "      <td>80</td>\n",
       "      <td>Driver</td>\n",
       "      <td>Female</td>\n",
       "      <td>17</td>\n",
       "    </tr>\n",
       "    <tr>\n",
       "      <th>4</th>\n",
       "      <td>20181016</td>\n",
       "      <td>NSW</td>\n",
       "      <td>March</td>\n",
       "      <td>2018</td>\n",
       "      <td>Sunday</td>\n",
       "      <td>01:45</td>\n",
       "      <td>Single vehicle</td>\n",
       "      <td>No</td>\n",
       "      <td>No</td>\n",
       "      <td>No</td>\n",
       "      <td>80</td>\n",
       "      <td>Driver</td>\n",
       "      <td>Female</td>\n",
       "      <td>24</td>\n",
       "    </tr>\n",
       "  </tbody>\n",
       "</table>\n",
       "</div>"
      ],
      "text/plain": [
       "   Crash ID State  Month  Year  Dayweek   Time        Crash_Type  \\\n",
       "0  20181001   NSW  March  2018  Tuesday  07:18  Multiple vehicle   \n",
       "1  20181005   NSW  March  2018   Monday  18:25  Multiple vehicle   \n",
       "2  20181007   NSW  March  2018   Friday  08:00        Pedestrian   \n",
       "3  20181012   NSW  March  2018   Friday  16:05  Multiple vehicle   \n",
       "4  20181016   NSW  March  2018   Sunday  01:45    Single vehicle   \n",
       "\n",
       "  Bus_Involvement Rigid_Truck_Involvement Articulated_Truck_Involvement   \\\n",
       "0              No                     Yes                             No   \n",
       "1              No                      No                             No   \n",
       "2              No                      No                             No   \n",
       "3              No                     Yes                             No   \n",
       "4              No                      No                             No   \n",
       "\n",
       "   Speed_Limit                                Road_User  Gender  Age  \n",
       "0           50  Bicyclist (includes pillion passengers)    Male   29  \n",
       "1           50                                   Driver    Male   41  \n",
       "2           50                               Pedestrian    Male   55  \n",
       "3           80                                   Driver  Female   17  \n",
       "4           80                                   Driver  Female   24  "
      ]
     },
     "execution_count": 21,
     "metadata": {},
     "output_type": "execute_result"
    }
   ],
   "source": [
    "df = pd.read_csv(r'file:///C:\\Users\\A629107\\Downloads\\FatalitiesMarch2018csv-12537.csv')\n",
    "df.head()"
   ]
  },
  {
   "cell_type": "code",
   "execution_count": 22,
   "metadata": {},
   "outputs": [
    {
     "data": {
      "text/html": [
       "<div>\n",
       "<style>\n",
       "    .dataframe thead tr:only-child th {\n",
       "        text-align: right;\n",
       "    }\n",
       "\n",
       "    .dataframe thead th {\n",
       "        text-align: left;\n",
       "    }\n",
       "\n",
       "    .dataframe tbody tr th {\n",
       "        vertical-align: top;\n",
       "    }\n",
       "</style>\n",
       "<table border=\"1\" class=\"dataframe\">\n",
       "  <thead>\n",
       "    <tr style=\"text-align: right;\">\n",
       "      <th></th>\n",
       "      <th>Crash ID</th>\n",
       "      <th>Year</th>\n",
       "      <th>Speed_Limit</th>\n",
       "      <th>Age</th>\n",
       "    </tr>\n",
       "  </thead>\n",
       "  <tbody>\n",
       "    <tr>\n",
       "      <th>count</th>\n",
       "      <td>4.889600e+04</td>\n",
       "      <td>48896.000000</td>\n",
       "      <td>48896.000000</td>\n",
       "      <td>48896.000000</td>\n",
       "    </tr>\n",
       "    <tr>\n",
       "      <th>mean</th>\n",
       "      <td>2.001667e+07</td>\n",
       "      <td>2001.376473</td>\n",
       "      <td>91.832502</td>\n",
       "      <td>39.220345</td>\n",
       "    </tr>\n",
       "    <tr>\n",
       "      <th>std</th>\n",
       "      <td>8.397934e+04</td>\n",
       "      <td>8.393047</td>\n",
       "      <td>94.136562</td>\n",
       "      <td>21.784648</td>\n",
       "    </tr>\n",
       "    <tr>\n",
       "      <th>min</th>\n",
       "      <td>1.989100e+07</td>\n",
       "      <td>1989.000000</td>\n",
       "      <td>-9.000000</td>\n",
       "      <td>-9.000000</td>\n",
       "    </tr>\n",
       "    <tr>\n",
       "      <th>25%</th>\n",
       "      <td>1.994302e+07</td>\n",
       "      <td>1994.000000</td>\n",
       "      <td>60.000000</td>\n",
       "      <td>22.000000</td>\n",
       "    </tr>\n",
       "    <tr>\n",
       "      <th>50%</th>\n",
       "      <td>2.001124e+07</td>\n",
       "      <td>2001.000000</td>\n",
       "      <td>80.000000</td>\n",
       "      <td>34.000000</td>\n",
       "    </tr>\n",
       "    <tr>\n",
       "      <th>75%</th>\n",
       "      <td>2.008329e+07</td>\n",
       "      <td>2008.000000</td>\n",
       "      <td>100.000000</td>\n",
       "      <td>55.000000</td>\n",
       "    </tr>\n",
       "    <tr>\n",
       "      <th>max</th>\n",
       "      <td>2.018800e+07</td>\n",
       "      <td>2018.000000</td>\n",
       "      <td>900.000000</td>\n",
       "      <td>101.000000</td>\n",
       "    </tr>\n",
       "  </tbody>\n",
       "</table>\n",
       "</div>"
      ],
      "text/plain": [
       "           Crash ID          Year   Speed_Limit           Age\n",
       "count  4.889600e+04  48896.000000  48896.000000  48896.000000\n",
       "mean   2.001667e+07   2001.376473     91.832502     39.220345\n",
       "std    8.397934e+04      8.393047     94.136562     21.784648\n",
       "min    1.989100e+07   1989.000000     -9.000000     -9.000000\n",
       "25%    1.994302e+07   1994.000000     60.000000     22.000000\n",
       "50%    2.001124e+07   2001.000000     80.000000     34.000000\n",
       "75%    2.008329e+07   2008.000000    100.000000     55.000000\n",
       "max    2.018800e+07   2018.000000    900.000000    101.000000"
      ]
     },
     "execution_count": 22,
     "metadata": {},
     "output_type": "execute_result"
    }
   ],
   "source": [
    "df.describe()"
   ]
  },
  {
   "cell_type": "markdown",
   "metadata": {},
   "source": [
    "                                        Fatalities per year analysis"
   ]
  },
  {
   "cell_type": "code",
   "execution_count": 23,
   "metadata": {},
   "outputs": [
    {
     "data": {
      "text/plain": [
       "Year\n",
       "1989    2800\n",
       "1990    2331\n",
       "1991    2113\n",
       "1992    1974\n",
       "1993    1953\n",
       "1994    1928\n",
       "1995    2017\n",
       "1996    1970\n",
       "1997    1767\n",
       "1998    1755\n",
       "1999    1764\n",
       "2000    1817\n",
       "2001    1737\n",
       "2002    1715\n",
       "2003    1621\n",
       "2004    1583\n",
       "2005    1627\n",
       "2006    1598\n",
       "2007    1603\n",
       "2008    1437\n",
       "2009    1491\n",
       "2010    1353\n",
       "2011    1277\n",
       "2012    1300\n",
       "2013    1187\n",
       "2014    1151\n",
       "2015    1205\n",
       "2016    1293\n",
       "2017    1226\n",
       "2018     303\n",
       "Name: Crash ID, dtype: int64"
      ]
     },
     "execution_count": 23,
     "metadata": {},
     "output_type": "execute_result"
    },
    {
     "data": {
      "image/png": "[encoded data removed]",
      "text/plain": [
       "<matplotlib.figure.Figure at 0xa55d320>"
      ]
     },
     "metadata": {},
     "output_type": "display_data"
    }
   ],
   "source": [
    "df1 = df.groupby('Year').count()\n",
    "df1 = df1.iloc[:,0]\n",
    "plot_year = df1.plot(grid=True)\n",
    "fig = plot_year.get_figure()\n",
    "fig.savefig('plot_year.png')\n",
    "df1"
   ]
  },
  {
   "cell_type": "code",
   "execution_count": 24,
   "metadata": {},
   "outputs": [
    {
     "data": {
      "image/png": "[encoded data removed]",
      "text/plain": [
       "<matplotlib.figure.Figure at 0xa5256a0>"
      ]
     },
     "metadata": {},
     "output_type": "display_data"
    }
   ],
   "source": [
    "df2 = df.groupby('State').count()\n",
    "df2 = df2.iloc[:,0]\n",
    "plot_state = df2.plot.bar()\n",
    "fig = plot_state.get_figure()\n",
    "fig.savefig('plot_state.png')"
   ]
  },
  {
   "cell_type": "code",
   "execution_count": 25,
   "metadata": {
    "scrolled": false
   },
   "outputs": [
    {
     "data": {
      "text/html": [
       "<div>\n",
       "<style>\n",
       "    .dataframe thead tr:only-child th {\n",
       "        text-align: right;\n",
       "    }\n",
       "\n",
       "    .dataframe thead th {\n",
       "        text-align: left;\n",
       "    }\n",
       "\n",
       "    .dataframe tbody tr th {\n",
       "        vertical-align: top;\n",
       "    }\n",
       "</style>\n",
       "<table border=\"1\" class=\"dataframe\">\n",
       "  <thead>\n",
       "    <tr style=\"text-align: right;\">\n",
       "      <th></th>\n",
       "      <th>Crash ID</th>\n",
       "      <th>State</th>\n",
       "      <th>Month</th>\n",
       "      <th>Year</th>\n",
       "      <th>Dayweek</th>\n",
       "      <th>Time</th>\n",
       "      <th>Crash_Type</th>\n",
       "      <th>Bus_Involvement</th>\n",
       "      <th>Rigid_Truck_Involvement</th>\n",
       "      <th>Articulated_Truck_Involvement</th>\n",
       "      <th>Speed_Limit</th>\n",
       "      <th>Road_User</th>\n",
       "      <th>Gender</th>\n",
       "      <th>Age</th>\n",
       "      <th>Hour of the day</th>\n",
       "    </tr>\n",
       "  </thead>\n",
       "  <tbody>\n",
       "    <tr>\n",
       "      <th>0</th>\n",
       "      <td>20181001</td>\n",
       "      <td>NSW</td>\n",
       "      <td>March</td>\n",
       "      <td>2018</td>\n",
       "      <td>Tuesday</td>\n",
       "      <td>07:18</td>\n",
       "      <td>Multiple vehicle</td>\n",
       "      <td>No</td>\n",
       "      <td>Yes</td>\n",
       "      <td>No</td>\n",
       "      <td>50</td>\n",
       "      <td>Bicyclist (includes pillion passengers)</td>\n",
       "      <td>Male</td>\n",
       "      <td>29</td>\n",
       "      <td>07</td>\n",
       "    </tr>\n",
       "    <tr>\n",
       "      <th>1</th>\n",
       "      <td>20181005</td>\n",
       "      <td>NSW</td>\n",
       "      <td>March</td>\n",
       "      <td>2018</td>\n",
       "      <td>Monday</td>\n",
       "      <td>18:25</td>\n",
       "      <td>Multiple vehicle</td>\n",
       "      <td>No</td>\n",
       "      <td>No</td>\n",
       "      <td>No</td>\n",
       "      <td>50</td>\n",
       "      <td>Driver</td>\n",
       "      <td>Male</td>\n",
       "      <td>41</td>\n",
       "      <td>18</td>\n",
       "    </tr>\n",
       "    <tr>\n",
       "      <th>2</th>\n",
       "      <td>20181007</td>\n",
       "      <td>NSW</td>\n",
       "      <td>March</td>\n",
       "      <td>2018</td>\n",
       "      <td>Friday</td>\n",
       "      <td>08:00</td>\n",
       "      <td>Pedestrian</td>\n",
       "      <td>No</td>\n",
       "      <td>No</td>\n",
       "      <td>No</td>\n",
       "      <td>50</td>\n",
       "      <td>Pedestrian</td>\n",
       "      <td>Male</td>\n",
       "      <td>55</td>\n",
       "      <td>08</td>\n",
       "    </tr>\n",
       "    <tr>\n",
       "      <th>3</th>\n",
       "      <td>20181012</td>\n",
       "      <td>NSW</td>\n",
       "      <td>March</td>\n",
       "      <td>2018</td>\n",
       "      <td>Friday</td>\n",
       "      <td>16:05</td>\n",
       "      <td>Multiple vehicle</td>\n",
       "      <td>No</td>\n",
       "      <td>Yes</td>\n",
       "      <td>No</td>\n",
       "      <td>80</td>\n",
       "      <td>Driver</td>\n",
       "      <td>Female</td>\n",
       "      <td>17</td>\n",
       "      <td>16</td>\n",
       "    </tr>\n",
       "    <tr>\n",
       "      <th>4</th>\n",
       "      <td>20181016</td>\n",
       "      <td>NSW</td>\n",
       "      <td>March</td>\n",
       "      <td>2018</td>\n",
       "      <td>Sunday</td>\n",
       "      <td>01:45</td>\n",
       "      <td>Single vehicle</td>\n",
       "      <td>No</td>\n",
       "      <td>No</td>\n",
       "      <td>No</td>\n",
       "      <td>80</td>\n",
       "      <td>Driver</td>\n",
       "      <td>Female</td>\n",
       "      <td>24</td>\n",
       "      <td>01</td>\n",
       "    </tr>\n",
       "  </tbody>\n",
       "</table>\n",
       "</div>"
      ],
      "text/plain": [
       "   Crash ID State  Month  Year  Dayweek   Time        Crash_Type  \\\n",
       "0  20181001   NSW  March  2018  Tuesday  07:18  Multiple vehicle   \n",
       "1  20181005   NSW  March  2018   Monday  18:25  Multiple vehicle   \n",
       "2  20181007   NSW  March  2018   Friday  08:00        Pedestrian   \n",
       "3  20181012   NSW  March  2018   Friday  16:05  Multiple vehicle   \n",
       "4  20181016   NSW  March  2018   Sunday  01:45    Single vehicle   \n",
       "\n",
       "  Bus_Involvement Rigid_Truck_Involvement Articulated_Truck_Involvement   \\\n",
       "0              No                     Yes                             No   \n",
       "1              No                      No                             No   \n",
       "2              No                      No                             No   \n",
       "3              No                     Yes                             No   \n",
       "4              No                      No                             No   \n",
       "\n",
       "   Speed_Limit                                Road_User  Gender  Age  \\\n",
       "0           50  Bicyclist (includes pillion passengers)    Male   29   \n",
       "1           50                                   Driver    Male   41   \n",
       "2           50                               Pedestrian    Male   55   \n",
       "3           80                                   Driver  Female   17   \n",
       "4           80                                   Driver  Female   24   \n",
       "\n",
       "  Hour of the day  \n",
       "0              07  \n",
       "1              18  \n",
       "2              08  \n",
       "3              16  \n",
       "4              01  "
      ]
     },
     "execution_count": 25,
     "metadata": {},
     "output_type": "execute_result"
    }
   ],
   "source": [
    "df[\"Hour of the day\"] = df[\"Time\"].str.split(':', n= 1)\n",
    "df[\"Hour of the day\"] = df[\"Hour of the day\"].apply(lambda x: x[0])\n",
    "df.head()"
   ]
  },
  {
   "cell_type": "code",
   "execution_count": 26,
   "metadata": {},
   "outputs": [
    {
     "data": {
      "image/png": "[encoded data removed]",
      "text/plain": [
       "<matplotlib.figure.Figure at 0xafd7f60>"
      ]
     },
     "metadata": {},
     "output_type": "display_data"
    }
   ],
   "source": [
    "df3 = df.groupby('Hour of the day').count()\n",
    "df3 = df3.iloc[:,0]\n",
    "df3.drop(df3.index[0], inplace=True)\n",
    "plot_hour = df3.plot.bar(figsize = (10,6))\n",
    "fig = plot_hour.get_figure()\n",
    "fig.savefig('plot_hour.png')"
   ]
  },
  {
   "cell_type": "code",
   "execution_count": 27,
   "metadata": {},
   "outputs": [
    {
     "data": {
      "text/plain": [
       "Age\n",
       "0       219\n",
       "1       178\n",
       "2       198\n",
       "3       179\n",
       "4       181\n",
       "5       183\n",
       "6       153\n",
       "7       145\n",
       "8       175\n",
       "9       151\n",
       "10      173\n",
       "11      145\n",
       "12      161\n",
       "13      208\n",
       "14      277\n",
       "15      452\n",
       "16      710\n",
       "17     1317\n",
       "18     1852\n",
       "19     1691\n",
       "20     1674\n",
       "21     1518\n",
       "22     1344\n",
       "23     1322\n",
       "24     1127\n",
       "25     1150\n",
       "26     1071\n",
       "27      989\n",
       "28      929\n",
       "29      934\n",
       "       ... \n",
       "72      324\n",
       "73      395\n",
       "74      356\n",
       "75      362\n",
       "76      391\n",
       "77      346\n",
       "78      378\n",
       "79      353\n",
       "80      383\n",
       "81      305\n",
       "82      301\n",
       "83      270\n",
       "84      250\n",
       "85      220\n",
       "86      217\n",
       "87      174\n",
       "88      148\n",
       "89      116\n",
       "90      107\n",
       "91       77\n",
       "92       60\n",
       "93       54\n",
       "94       34\n",
       "95       14\n",
       "96       21\n",
       "97       14\n",
       "98        6\n",
       "99        5\n",
       "100       1\n",
       "101       1\n",
       "Name: Crash ID, Length: 102, dtype: int64"
      ]
     },
     "execution_count": 27,
     "metadata": {},
     "output_type": "execute_result"
    }
   ],
   "source": [
    "import matplotlib.pyplot as plt\n",
    "df4 = df.groupby('Age').count()\n",
    "df4 = df4.iloc[:,0]\n",
    "df4.drop(df4.index[0], inplace=True)\n",
    "df4"
   ]
  },
  {
   "cell_type": "code",
   "execution_count": 28,
   "metadata": {},
   "outputs": [
    {
     "data": {
      "image/png": "[encoded data removed]",
      "text/plain": [
       "<matplotlib.figure.Figure at 0xafdce80>"
      ]
     },
     "metadata": {},
     "output_type": "display_data"
    }
   ],
   "source": [
    "plot_age = df4.plot.bar(figsize =(20,10))\n",
    "fig = plot_age.get_figure()\n",
    "fig.savefig('plot_age.png')"
   ]
  },
  {
   "cell_type": "code",
   "execution_count": 29,
   "metadata": {},
   "outputs": [
    {
     "data": {
      "text/plain": [
       "<matplotlib.axes._subplots.AxesSubplot at 0xa87a320>"
      ]
     },
     "execution_count": 29,
     "metadata": {},
     "output_type": "execute_result"
    },
    {
     "data": {
      "image/png": "[encoded data removed]",
      "text/plain": [
       "<matplotlib.figure.Figure at 0xa866dd8>"
      ]
     },
     "metadata": {},
     "output_type": "display_data"
    }
   ],
   "source": [
    "df5 = df.groupby('Dayweek').count()\n",
    "df5 = df5.iloc[:,0]\n",
    "df5.plot.bar()"
   ]
  },
  {
   "cell_type": "code",
   "execution_count": 30,
   "metadata": {},
   "outputs": [
    {
     "data": {
      "image/png": "[encoded data removed]",
      "text/plain": [
       "<matplotlib.figure.Figure at 0xa6569b0>"
      ]
     },
     "metadata": {},
     "output_type": "display_data"
    }
   ],
   "source": [
    "df6 = df.groupby('Month').count()\n",
    "df6 = df6.iloc[:,0]\n",
    "plot_month = df6.plot.bar()\n",
    "fig = plot_month.get_figure()\n",
    "fig.savefig('plot_month.png')"
   ]
  },
  {
   "cell_type": "code",
   "execution_count": 31,
   "metadata": {},
   "outputs": [
    {
     "data": {
      "image/png": "[encoded data removed]",
      "text/plain": [
       "<matplotlib.figure.Figure at 0xa4df1d0>"
      ]
     },
     "metadata": {},
     "output_type": "display_data"
    }
   ],
   "source": [
    "df7 = df.groupby('Road_User').count()\n",
    "df7 = df7.iloc[:,0]\n",
    "df7.drop(df7.index[[0,1]], inplace = True)\n",
    "plot_rod_u = df7.plot.bar()\n",
    "fig = plot_rod_u.get_figure()\n",
    "fig.savefig('plot_rod_u.png')"
   ]
  },
  {
   "cell_type": "code",
   "execution_count": 32,
   "metadata": {},
   "outputs": [
    {
     "data": {
      "image/png": "[encoded data removed]",
      "text/plain": [
       "<matplotlib.figure.Figure at 0xa71ba20>"
      ]
     },
     "metadata": {},
     "output_type": "display_data"
    }
   ],
   "source": [
    "df8 = df.groupby('Gender').count()\n",
    "df8 = df8.iloc[:,0]\n",
    "df8.drop(df8.index[[0]], inplace = True)\n",
    "plot_gender = df8.plot.bar()\n",
    "fig = plot_gender.get_figure()\n",
    "fig.savefig('plot_rod_u.png')"
   ]
  },
  {
   "cell_type": "code",
   "execution_count": 33,
   "metadata": {},
   "outputs": [
    {
     "data": {
      "text/plain": [
       "True"
      ]
     },
     "execution_count": 33,
     "metadata": {},
     "output_type": "execute_result"
    }
   ],
   "source": [
    "import webbrowser\n",
    "f = open('plt_year.html','w')\n",
    "\n",
    "message = \"\"\"<html>\n",
    "<head></head>\n",
    "<body>\n",
    "<p>Fatalities by year trends</p>\n",
    "<p><img src = 'plot_year.png'></p>\n",
    "<p><a href = 'index.html'> Back to home page </a></p>\n",
    "</body>\n",
    "</html>\"\"\"\n",
    "\n",
    "f.write(message)\n",
    "f.close()\n",
    "webbrowser.open_new_tab('plt_year.html')"
   ]
  },
  {
   "cell_type": "code",
   "execution_count": 34,
   "metadata": {},
   "outputs": [
    {
     "data": {
      "text/plain": [
       "True"
      ]
     },
     "execution_count": 34,
     "metadata": {},
     "output_type": "execute_result"
    }
   ],
   "source": [
    "f = open('plt_state.html','w')\n",
    "\n",
    "message = \"\"\"<html>\n",
    "<head></head>\n",
    "<body>\n",
    "<p>Fatalities by state trends</p>\n",
    "<p><img src = 'plot_state.png'></p>\n",
    "<p><a href = 'index.html'> Back to home page </a></p>\n",
    "</body>\n",
    "</html>\"\"\"\n",
    "\n",
    "f.write(message)\n",
    "f.close()\n",
    "webbrowser.open_new_tab('plt_state.html')"
   ]
  },
  {
   "cell_type": "code",
   "execution_count": 35,
   "metadata": {},
   "outputs": [
    {
     "data": {
      "text/plain": [
       "True"
      ]
     },
     "execution_count": 35,
     "metadata": {},
     "output_type": "execute_result"
    }
   ],
   "source": [
    "f = open('plt_hour.html','w')\n",
    "\n",
    "message = \"\"\"<html>\n",
    "<head></head>\n",
    "<body>\n",
    "<p>Fatalities by Hour of the day trends</p>\n",
    "<p><img src = 'plot_hour.png'></p>\n",
    "<p><a href = 'index.html'> Back to home page </a></p>\n",
    "</body>\n",
    "</html>\"\"\"\n",
    "\n",
    "f.write(message)\n",
    "f.close()\n",
    "webbrowser.open_new_tab('plt_hour.html')"
   ]
  },
  {
   "cell_type": "code",
   "execution_count": 36,
   "metadata": {},
   "outputs": [
    {
     "data": {
      "text/plain": [
       "True"
      ]
     },
     "execution_count": 36,
     "metadata": {},
     "output_type": "execute_result"
    }
   ],
   "source": [
    "f = open('plt_age.html','w')\n",
    "\n",
    "message = \"\"\"<html>\n",
    "<head></head>\n",
    "<body>\n",
    "<p>Fatalities by Age trends</p>\n",
    "<p><img src = 'plot_age.png'></p>\n",
    "<p><a href = 'index.html'> Back to home page </a></p>\n",
    "</body>\n",
    "</html>\"\"\"\n",
    "\n",
    "f.write(message)\n",
    "f.close()\n",
    "webbrowser.open_new_tab('plt_age.html')"
   ]
  },
  {
   "cell_type": "code",
   "execution_count": 37,
   "metadata": {},
   "outputs": [
    {
     "data": {
      "text/plain": [
       "True"
      ]
     },
     "execution_count": 37,
     "metadata": {},
     "output_type": "execute_result"
    }
   ],
   "source": [
    "f = open('plt_month.html','w')\n",
    "\n",
    "message = \"\"\"<html>\n",
    "<head></head>\n",
    "<body>\n",
    "<p>Fatalities by Month trends</p>\n",
    "<p><img src = 'plot_month.png'></p>\n",
    "<p><a href = 'index.html'> Back to home page </a></p>\n",
    "</body>\n",
    "</html>\"\"\"\n",
    "\n",
    "f.write(message)\n",
    "f.close()\n",
    "webbrowser.open_new_tab('plt_month.html')"
   ]
  },
  {
   "cell_type": "code",
   "execution_count": null,
   "metadata": {
    "collapsed": true
   },
   "outputs": [],
   "source": []
  }
 ],
 "metadata": {
  "kernelspec": {
   "display_name": "Python 3",
   "language": "python",
   "name": "python3"
  },
  "language_info": {
   "codemirror_mode": {
    "name": "ipython",
    "version": 3
   },
   "file_extension": ".py",
   "mimetype": "text/x-python",
   "name": "python",
   "nbconvert_exporter": "python",
   "pygments_lexer": "ipython3",
   "version": "3.6.1"
  }
 },
 "nbformat": 4,
 "nbformat_minor": 2
}
